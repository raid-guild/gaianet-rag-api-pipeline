{
 "cells": [
  {
   "cell_type": "code",
   "execution_count": null,
   "metadata": {},
   "outputs": [],
   "source": [
    "import dotenv\n",
    "import logging\n",
    "import json\n",
    "import os\n",
    "\n",
    "import pathway as pw\n",
    "from pathway.xpacks.llm import embedders, parsers, splitters, vector_store"
   ]
  },
  {
   "cell_type": "code",
   "execution_count": null,
   "metadata": {},
   "outputs": [],
   "source": [
    "logger = logging.getLogger(__name__)"
   ]
  },
  {
   "cell_type": "code",
   "execution_count": null,
   "metadata": {},
   "outputs": [],
   "source": [
    "config = dotenv.dotenv_values('.env')\n",
    "config"
   ]
  },
  {
   "cell_type": "code",
   "execution_count": null,
   "metadata": {},
   "outputs": [],
   "source": [
    "protocol_name = 'aave'\n",
    "prop_order_by = 'asc'\n",
    "api_key = config['BOARDROOM_API_KEY']"
   ]
  },
  {
   "cell_type": "markdown",
   "metadata": {},
   "source": [
    "## Protocol"
   ]
  },
  {
   "cell_type": "code",
   "execution_count": null,
   "metadata": {},
   "outputs": [],
   "source": [
    "class Protocol(pw.Schema):\n",
    "    cname: str\n",
    "    name: str\n",
    "    categories: str\n",
    "    is_enabled: bool\n",
    "    active_on_website: bool\n",
    "    total_proposals: int\n",
    "    total_votes: int\n",
    "    unique_voters: int\n",
    "    # tokens: list[object]\n",
    "    ptype: str\n",
    "    # delegated_support: dict\n"
   ]
  },
  {
   "cell_type": "code",
   "execution_count": null,
   "metadata": {},
   "outputs": [],
   "source": [
    "def protocol_mapper(raw_data: bytes) -> bytes:\n",
    "    # logger.info(raw_data.decode())\n",
    "    data = json.loads(raw_data.decode())[\"data\"]\n",
    "    return json.dumps(\n",
    "        {\n",
    "            \"cname\": data[\"cname\"],\n",
    "            \"name\": data[\"name\"],\n",
    "            \"categories\": \",\".join(data[\"categories\"]),\n",
    "            \"is_enabled\": data[\"isEnabled\"],\n",
    "            \"active_on_website\": data[\"activeOnWebsite\"],\n",
    "            \"total_proposals\": data[\"totalProposals\"],\n",
    "            \"total_votes\": data[\"totalVotes\"],\n",
    "            \"unique_voters\": data[\"uniqueVoters\"],\n",
    "            \"ptype\": data[\"type\"],\n",
    "        }\n",
    "    ).encode()\n"
   ]
  },
  {
   "cell_type": "code",
   "execution_count": null,
   "metadata": {},
   "outputs": [],
   "source": [
    "\n",
    "protocol = pw.io.http.read(\n",
    "    f\"https://api.boardroom.info/v1/protocols/{protocol_name}?key={api_key}\",\n",
    "    method='GET',\n",
    "    headers={\"Accept\": \"application/json\"},\n",
    "    # format=\"raw\",\n",
    "    schema=Protocol,\n",
    "    response_mapper=protocol_mapper\n",
    ")"
   ]
  },
  {
   "cell_type": "code",
   "execution_count": null,
   "metadata": {},
   "outputs": [],
   "source": [
    "protocol.schema"
   ]
  },
  {
   "cell_type": "code",
   "execution_count": null,
   "metadata": {},
   "outputs": [],
   "source": [
    "protocol"
   ]
  },
  {
   "cell_type": "markdown",
   "metadata": {},
   "source": [
    "## Proposals"
   ]
  },
  {
   "cell_type": "code",
   "execution_count": null,
   "metadata": {},
   "outputs": [],
   "source": [
    "# class Proposal(pw.Schema):\n",
    "#     protocol: str\n",
    "#     ref_id: str\n",
    "#     pid: str\n",
    "#     title: str\n",
    "#     content: str\n",
    "#     adapter: str\n",
    "#     proposer: str\n",
    "#     total_votes: int\n",
    "#     block_number: int\n",
    "#     external_url: str\n",
    "#     start_timestamp: int\n",
    "#     end_timestamp: int\n",
    "#     current_state: str\n",
    "#     # results: list[dict] # TODO\n",
    "#     ptype: str\n",
    "#     summary: str\n",
    "#     privacy: str\n",
    "#     # executables: dict\n",
    "#     tx_hash: str\n",
    "#     quorum: int\n",
    "\n"
   ]
  },
  {
   "cell_type": "code",
   "execution_count": null,
   "metadata": {},
   "outputs": [],
   "source": [
    "# def coalesce(data: dict, key: str, fallback: str = ''):\n",
    "#     return data[key] if key in data else fallback\n",
    "\n",
    "# def proposal_mapper(raw_data: bytes) -> bytes:\n",
    "#     json_data = json.loads(raw_data.decode())\n",
    "#     data_records = json_data[\"data\"]\n",
    "#     next_cursor = json_data[\"nextCursor\"]\n",
    "#     # return json.dumps([\n",
    "#     #     {\n",
    "#     #         \"protocol\": coalesce(data, \"protocol\"),\n",
    "#     #         \"ref_id\": coalesce(data, \"refId\"),\n",
    "#     #         \"pid\": coalesce(data, \"id\"),\n",
    "#     #         \"title\": coalesce(data, \"title\"),\n",
    "#     #         \"content\": coalesce(data, \"content\"),\n",
    "#     #         \"adapter\": coalesce(data, \"adapter\"),\n",
    "#     #         \"proposer\": coalesce(data, \"proposer\"),\n",
    "#     #         \"total_votes\": coalesce(data, \"totalVotes\"),\n",
    "#     #         \"block_number\": coalesce(data, \"blockNumber\"),\n",
    "#     #         \"external_url\": coalesce(data, \"externalUrl\"),\n",
    "#     #         \"start_timestamp\": int(coalesce(data, \"startTimestamp\")),\n",
    "#     #         \"end_timestamp\": int(coalesce(data, \"endTimestamp\")),\n",
    "#     #         \"current_state\": coalesce(data, \"currentState\"),\n",
    "#     #         # \"results\": [{\"choice\": data[\"choices\"][choice[\"choice\"]], \"result\": choice[\"total\"]} for choice in data[\"results\"]],\n",
    "#     #         \"ptype\": coalesce(data, \"type\"),\n",
    "#     #         \"summary\": coalesce(data, \"summary\"),\n",
    "#     #         \"privacy\": coalesce(data, \"privacy\"),\n",
    "#     #         \"tx_hash\": coalesce(data, \"txHash\"),\n",
    "#     #         \"quorum\": coalesce(data, \"quorum\"),\n",
    "#     #     } for data in data_records\n",
    "#     data = data_records[0]\n",
    "#     return json.dumps(\n",
    "#         {\n",
    "#             \"protocol\": coalesce(data, \"protocol\"),\n",
    "#             \"ref_id\": coalesce(data, \"refId\"),\n",
    "#             \"pid\": coalesce(data, \"id\"),\n",
    "#             \"title\": coalesce(data, \"title\"),\n",
    "#             \"content\": coalesce(data, \"content\"),\n",
    "#             \"adapter\": coalesce(data, \"adapter\"),\n",
    "#             \"proposer\": coalesce(data, \"proposer\"),\n",
    "#             \"total_votes\": coalesce(data, \"totalVotes\"),\n",
    "#             \"block_number\": coalesce(data, \"blockNumber\"),\n",
    "#             \"external_url\": coalesce(data, \"externalUrl\"),\n",
    "#             \"start_timestamp\": int(coalesce(data, \"startTimestamp\")),\n",
    "#             \"end_timestamp\": int(coalesce(data, \"endTimestamp\")),\n",
    "#             \"current_state\": coalesce(data, \"currentState\"),\n",
    "#             # \"results\": [{\"choice\": data[\"choices\"][choice[\"choice\"]], \"result\": choice[\"total\"]} for choice in data[\"results\"]],\n",
    "#             \"ptype\": coalesce(data, \"type\"),\n",
    "#             \"summary\": coalesce(data, \"summary\"),\n",
    "#             \"privacy\": coalesce(data, \"privacy\"),\n",
    "#             \"tx_hash\": coalesce(data, \"txHash\"),\n",
    "#             \"quorum\": coalesce(data, \"quorum\"),\n",
    "#         }\n",
    "#     ).encode()"
   ]
  },
  {
   "cell_type": "code",
   "execution_count": null,
   "metadata": {},
   "outputs": [],
   "source": [
    "class BoardroomAPI(pw.Schema):\n",
    "    data: pw.Json"
   ]
  },
  {
   "cell_type": "code",
   "execution_count": null,
   "metadata": {},
   "outputs": [],
   "source": [
    "proposals = pw.io.http.read(\n",
    "    f\"https://api.boardroom.info/v1/protocols/{protocol_name}/proposals?key={api_key}&orderByIndexedAt{prop_order_by}\",\n",
    "    method='GET',\n",
    "    headers={\"Accept\": \"application/json\"},\n",
    "    format=\"json\",\n",
    "    schema=BoardroomAPI\n",
    "    # schema=Proposal,\n",
    "    # response_mapper=proposal_mapper\n",
    ")"
   ]
  },
  {
   "cell_type": "code",
   "execution_count": null,
   "metadata": {},
   "outputs": [],
   "source": [
    "# u_logger = logging.getLogger(\"unstructured\")\n",
    "# u_logger.setLevel(logging.INFO)"
   ]
  },
  {
   "cell_type": "code",
   "execution_count": null,
   "metadata": {},
   "outputs": [],
   "source": [
    "# export CFLAGS=\"-Wno-nullability-completeness\" if trying to install pillow-heif missingn module\n",
    "# libmagic -> Required for having libmagic working:\n",
    "# - brew install libmagic\n",
    "# - pip install python-magic-bin\n",
    "parser = parsers.ParseUnstructured(mode=\"elements\")\n",
    "\n",
    "# @pw.udf(executor=pw.udfs.async_executor())\n",
    "# def parse_document(raw_text: pw.Json) -> list[tuple[str, dict]]:\n",
    "#     return parser(f\"{raw_text}\".encode())"
   ]
  },
  {
   "cell_type": "code",
   "execution_count": null,
   "metadata": {},
   "outputs": [],
   "source": [
    "proposals = proposals.flatten(proposals.data)\n",
    "proposals = proposals.with_columns(\n",
    "    title=pw.this.data.get(\"title\", default=pw.Json(\"Untitled\")).as_str(),\n",
    "    # content=pw.apply_with_type(lambda x: f\"{x}\".encode() if x else b\"\", bytes, pw.this.data.get(\"content\", default=None)),\n",
    "    content=parser(pw.apply_with_type(lambda x: f\"{x}\".encode() if x else b\"\", bytes, pw.this.data.get(\"content\", default=None))),\n",
    "    # content=pw.this.data.get(\"content\", default=None)\n",
    "    # parsed_content=parser(pw.this.data.get(\"content\", default=pw.Json(\"Empty\"))),\n",
    ")\n",
    "proposals = proposals.flatten(pw.this.content)\n",
    "proposals = proposals.select(title=pw.this.title, text=pw.this.content[0], metadata=pw.this.content[1])\n"
   ]
  },
  {
   "cell_type": "code",
   "execution_count": null,
   "metadata": {},
   "outputs": [],
   "source": [
    "proposals.schema"
   ]
  },
  {
   "cell_type": "code",
   "execution_count": null,
   "metadata": {},
   "outputs": [],
   "source": [
    "proposals"
   ]
  },
  {
   "cell_type": "markdown",
   "metadata": {},
   "source": [
    "## Run workflow"
   ]
  },
  {
   "cell_type": "code",
   "execution_count": null,
   "metadata": {},
   "outputs": [],
   "source": [
    "# pw.debug.compute_and_print(proposals.select(content=pw.this.content))"
   ]
  },
  {
   "cell_type": "code",
   "execution_count": null,
   "metadata": {},
   "outputs": [],
   "source": [
    "%%capture --no-display\n",
    "pw.run()"
   ]
  },
  {
   "cell_type": "code",
   "execution_count": null,
   "metadata": {},
   "outputs": [],
   "source": []
  },
  {
   "cell_type": "code",
   "execution_count": null,
   "metadata": {},
   "outputs": [],
   "source": [
    "test_doc = \"\"\"\n",
    "---\\n\\ntitle: ARC - Strategic Partnership with Balancer Part #2\\nstatus: Discussion\\nauthor: Llama Community - @MatthewGraham\\ncreated: 03-05-2022\\n\\n---\\n\\n# Simple Summary\\n\\nAcquire 100,000 BAL tokens by deploying a Bonding Curve contract. The BAL tokens are to be held in the Reserve Factor until further details relating to Aura emerges and then the Aave community can determine if to deploy BAL to receive veBAL or auraBAL, [1].\\n\\n# Abstract\\n\\nDeploy a Bonding Curve to acquire an additional 100,000 BAL tokens on market at the chainlink oracle price +50 bps, for a cost $1,708,500 assuming a BAL price of $17. This is an additional purchase to the 200,000 BAL token swap being considered.\\n\\nAave will become one of eight token holders with 300,000 BAL tokens. All 100,000 BAL tokens are to be retained in the Reserve Factor until such time as further information on auraBAL emerges.\\n\\n# Motivation\\n\\nThe original motivation for performing a token swap with Balancer can be found on the ARC - Strategic Investment BAL Token, [2].\\n\\nWith the additional 100,000 BAL acquisition, Aave would transition from just outside the Top 50 BAL holder to inside the Top 30 holders, [3]. If an additional 75,000 BAL was acquired, totalling 375,000 BAL, then Aave would become a Top 20 holder and this includes three community wallets, one Polygon bridge pool and the main BAL liquidity pool. So really it would be more like the Top 15 holders if another 75,000 BAL was acquired.\\n\\nWith 300,000 BAL tokens, Aave would have the largest BAL holding of any strategic partner Balancer has partnered with. The largest strategic partnership holding to date is the 270,000 BAL position held by Tribe DAO, [4,5]. Having a larger BAL holding relative to Tribe DAO may become a competitive advantage as Tribe DAO seeks to direct TVL to Rari Fuse pools with the use of the new ERC-4626 vault, [6].\\n\\nWith the emergence of ERC-4626, a new type of vault, whereby Liquidity Providers (LP) can deposit their stakes BPT tokens into lending pools and earn BAL rewards whilst using staked BPT as collateral, [7]. This is particularly appealing for staked BPT holdings which have minimal Impermanent loss risk. An example would be to use the staked BPT token for the stable coin Balancer Boosted Pool which uses Aave V2 to generate yield and receives BAL rewards, [8]. Based upon the success of wstETH being listed on Aave V2, this may lead to significant Total Value Locked (TVL) growth for Aave which makes up more than 13% of Aave’s mainnet V2 market TVL, [9].\\n\\nHaving not yet entered in the Curve / Convex tokenomics play, Aave has an opportunity to be an early leader in the veBAL wars. With the emergence of Aura, the Aave community has a choice to determine if the 100,000 BAL to be acquired are to be deployed for veBAL or auraBAL. If Aura is like Convex, then being early and building an Aura holding is worth considering. The first step in both strategies is to acquire a sizable BAL position and as the initial 200,000 BAL is proposed to be deposited into the veBAL contract and locked for 1 year, the 100,000 BAL detailed within this proposal can be deployed into either veBAL or auraBAL contracts.\\n\\nThere are likely to be many more Balancer Boosted Pools that utilise aTokens in the future and the veBAL votes can be used to help bootstrap these pools by directing BAL rewards to those pools. Using either veBAL or auraBAL to vote for BAL rewards towards pools that create TVL for Aave is a strategic advantage. If Aura evolves like Convex did, then the voter locked AURA token will have more voting influence over BAL rewards than one veBAL token. Being prepared and ready for the Aura token launch is going to position Aave to maximise the upside from its investments as rewards often favour early movers.\\n\\n# Implementation\\n\\nA Bonding Curve deployment utilising Chainlink’s BAL/USD oracle feed with a 50 bps incentive for arbitrage trades to acquire BAL on market and deposit into the contract. Aave will provide USDC to fund the Bonding Curve contract. An example of this type of transaction occurred when Tribe purchased $10M of DPI on market, [10].\\n\\nThe 50 bps fee is to provide an economic incentive for arbitrage traders to attain BAL on market and deposit BAL into the contract profitably by more than offsetting gas costs. This mechanism enables everyone within defi to participate and essentially crowdsources the BAL tokens on Aave’s behalf. Once the BAL has been received it will be transferred to the Reserve Factor.\\n\\n# References\\n\\n[1] https://forum.balancer.fi/t/proposal-allowlist-aura-finance-in-balancer-votingescrow/2708\\n[2] https://governance.aave.com/t/arc-strategic-partnership-with-balancer/7617/15\\n[3] https://etherscan.io/token/0xba100000625a3754423978a60c9317c58a424e3d#balances\\n[4] https://forum.balancer.fi/t/proposal-allow-tribe-dao-to-lock-vebal/2888\\n[5] https://snapshot.org/#/balancer.eth/proposal/0x7972e1700ac30495ad936038b66055b1e6420c3de5ed1fec963abe5faa2d16a3\\n[6] https://tribe.fei.money/t/fip-90-fuse-boosted-usd-balancer-pool-bb-f-usd/4023\\n[7] https://eips.ethereum.org/EIPS/eip-4626\\n[8] https://app.balancer.fi/#/pool/0x7b50775383d3d6f0215a8f290f2c9e2eebbeceb20000000000000000000000fe\\n[9] https://app.aave.com/reserve-overview/?underlyingAsset=0xae7ab96520de3a18e5e111b5eaab095312d7fe84&marketName=proto_mainnet\\n[10] https://etherscan.io/address/0x464c71f6c2f760dda6093dcb91c24c39e5d6e18c\\n\\n# Copyright\\n\\nCopyright and related rights waived via [CC0](https://creativecommons.org/publicdomain/zero/1.0/).\n",
    "\"\"\""
   ]
  },
  {
   "cell_type": "code",
   "execution_count": null,
   "metadata": {},
   "outputs": [],
   "source": [
    "tt = (('\"## Simple Summary\\\\n\\\\nA proposal to adjust sAVAX\\\\u2019s LT and LTV on Aave V3 Avalanche.\\\\n\\\\n## Motivation\\\\n\\\\nIncreasing the liquidation threshold and LTV for assets allows Aave to enhance users\\\\u2019 capital efficiency. However, this must be balanced with proper risk management to ensure that there is a sufficient buffer in the event of large drawdowns and/or liquidations. The analysis below was conducted utilizing our LT simulations, which showed either minimal or no increases in VaR at the recommended LT levels while also considering user distribution and on-chain liquidity.\\\\n\\\\n### sAVAX\\\\n\\\\nsAVAX\\\\u2019s LTV and LT are currently set to 30% and 40%, respectively (its E-Mode parameters are 92.5% and 95%).',\n",
    "       pw.Json({'category': 'NarrativeText', 'filetype': 'text/plain', 'languages': ['eng']})),\n",
    "      ('The top suppliers are primarily looping sAVAX and WAVAX, reducing the risk of large-scale liquidations in this market.\\\\nHowever, there is a small amount of non-WAVAX borrows against sAVAX, primarily WETH.e and stablecoins.\\\\nMoreover, sAVAX maintains strong liquidity against AVAX, meaning that potential liquidations of sAVAX collateralized debt are likely to be completed efficiently.\\\\nGiven user distribution and liquidity, we recommend increasing LTV to 40% and LT to 45%.\\\\n\\\\n## Specification\\\\n\\\\nGiven these observations, we recommend making the following changes:\\\\n\\\\n| Chain     | Asset | Parameter             | Current | Recommended |\\\\n| --------- | ----- | --------------------- | ------- | ----------- |\\\\n| Avalanche | sAVAX | LTV                   | 30%     | 40%         |\\\\n| Avalanche | sAVAX | Liquidation Threshold | 40%     | 45%         |\\\\n\\\\n## References\\\\n\\\\n- Implementation:',\n",
    "       pw.Json({'category': 'NarrativeText', 'filetype': 'text/plain', 'languages': ['eng']})),\n",
    "      ('[AaveV3Avalanche](https://github.com/bgd-labs/aave-proposals-v3/blob/1391ea39052a0d35fbd843bd49edaf6ea7eb1c73/src/20240724_AaveV3Avalanche_RiskParameterUpdatesSAVAXOnAaveV3Avalanche/AaveV3Avalanche_RiskParameterUpdatesSAVAXOnAaveV3Avalanche_20240724.sol)\\\\n- Tests: [AaveV3Avalanche](https://github.com/bgd-labs/aave-proposals-v3/blob/1391ea39052a0d35fbd843bd49edaf6ea7eb1c73/src/20240724_AaveV3Avalanche_RiskParameterUpdatesSAVAXOnAaveV3Avalanche/AaveV3Avalanche_RiskParameterUpdatesSAVAXOnAaveV3Avalanche_20240724.t.sol)\\\\n- [Snapshot](https://snapshot.org/#/aave.eth/proposal/0x471ab55b0091043963c744f228befd842aeb354b0d04c76da3c9eb2b401934a4)\\\\n- [Discussion](https://governance.aave.com/t/arfc-chaos-labs-risk-parameter-updates-savax-on-aave-v3-avalanche-07-16-2024/18277)\\\\n\\\\n## Copyright\\\\n\\\\nCopyright and related rights waived via [CC0](https://creativecommons.org/publicdomain/zero/1.0/).\"', \n",
    "       pw.Json({'category': 'NarrativeText', 'filetype': 'text/plain', 'languages': ['eng']})))"
   ]
  },
  {
   "cell_type": "code",
   "execution_count": null,
   "metadata": {},
   "outputs": [],
   "source": [
    "(text, parsed_content) = tt"
   ]
  },
  {
   "cell_type": "code",
   "execution_count": null,
   "metadata": {},
   "outputs": [],
   "source": []
  }
 ],
 "metadata": {
  "kernelspec": {
   "display_name": "Python 3 (ipykernel)",
   "language": "python",
   "name": "python3"
  },
  "language_info": {
   "codemirror_mode": {
    "name": "ipython",
    "version": 3
   },
   "file_extension": ".py",
   "mimetype": "text/x-python",
   "name": "python",
   "nbconvert_exporter": "python",
   "pygments_lexer": "ipython3",
   "version": "3.11.9"
  }
 },
 "nbformat": 4,
 "nbformat_minor": 4
}
