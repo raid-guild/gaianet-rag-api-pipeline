{
 "cells": [
  {
   "cell_type": "code",
   "execution_count": null,
   "id": "faf424d3-eaf3-4634-9430-8a5914994ba0",
   "metadata": {},
   "outputs": [],
   "source": [
    "import os\n",
    "import yaml\n",
    "import dotenv\n",
    "\n",
    "dotenv.load_dotenv()"
   ]
  },
  {
   "cell_type": "markdown",
   "id": "eb849c06",
   "metadata": {},
   "source": []
  },
  {
   "cell_type": "code",
   "execution_count": null,
   "id": "acc7ab45-5c37-4237-972a-8ef25d3d6986",
   "metadata": {},
   "outputs": [],
   "source": [
    "from langchain_community.agent_toolkits.openapi.spec import reduce_openapi_spec\n",
    "from langchain_community.agent_toolkits.openapi import planner\n",
    "# from langchain_openai import ChatOpenAI\n",
    "from langchain.requests import RequestsWrapper\n",
    "import tiktoken"
   ]
  },
  {
   "cell_type": "code",
   "execution_count": null,
   "id": "58d0cd70-f132-4656-ac95-dad252210b5e",
   "metadata": {},
   "outputs": [],
   "source": [
    "from langchain_community.chat_models.litellm import ChatLiteLLM"
   ]
  },
  {
   "cell_type": "code",
   "execution_count": null,
   "id": "c23a180d-79f3-47f0-9c24-dad795bbbe2e",
   "metadata": {},
   "outputs": [],
   "source": [
    "boardroom_api_key = os.getenv(\"BOARDROOM_API_KEY\")\n",
    "boardroom_api_key"
   ]
  },
  {
   "cell_type": "markdown",
   "id": "270f0a6f-7db9-4d95-9d6d-dacff0fec85b",
   "metadata": {},
   "source": [
    "## Loading OpenAPI Spec"
   ]
  },
  {
   "cell_type": "code",
   "execution_count": null,
   "id": "c82613cd-441e-4796-9868-60bfc10144e8",
   "metadata": {},
   "outputs": [],
   "source": [
    "with open(\"../boardroom/boardroom_openapi.yaml\") as f:\n",
    "    raw_boardroom_api_spec = yaml.load(f, Loader=yaml.Loader)\n",
    "boardroom_api_spec = reduce_openapi_spec(raw_boardroom_api_spec)"
   ]
  },
  {
   "cell_type": "code",
   "execution_count": null,
   "id": "da95e40b-3c70-4683-afbd-69f111dce0be",
   "metadata": {},
   "outputs": [],
   "source": [
    "raw_boardroom_api_spec['security'][0]['api-key'] = [boardroom_api_key]"
   ]
  },
  {
   "cell_type": "code",
   "execution_count": null,
   "id": "5b47546f-74f7-4eee-a6bc-4e69fbdecd58",
   "metadata": {},
   "outputs": [],
   "source": [
    "headers = {\"Accept\": \"application/json\"} # add `Authorization` header if an access token is required\n",
    "requests_wrapper = RequestsWrapper(headers=headers)"
   ]
  },
  {
   "cell_type": "code",
   "execution_count": null,
   "id": "601af1bd-2484-4d7f-95af-7bcfe06f93a9",
   "metadata": {},
   "outputs": [],
   "source": [
    "# How big is the spec?\n",
    "endpoints = [\n",
    "    (route, operation)\n",
    "    for route, operations in raw_boardroom_api_spec[\"paths\"].items()\n",
    "    for operation in operations\n",
    "    if operation in [\"get\", \"post\"]\n",
    "]\n",
    "len(endpoints)"
   ]
  },
  {
   "cell_type": "code",
   "execution_count": null,
   "id": "7b596104-6212-4152-b408-92a59b3cd429",
   "metadata": {},
   "outputs": [],
   "source": [
    "enc = tiktoken.encoding_for_model(\"gpt-4\")\n",
    "\n",
    "\n",
    "def count_tokens(s):\n",
    "    return len(enc.encode(s))\n",
    "\n",
    "\n",
    "count_tokens(yaml.dump(raw_boardroom_api_spec))"
   ]
  },
  {
   "cell_type": "markdown",
   "id": "fb5df5ca-3e8d-4404-9f52-12c4a8d639e3",
   "metadata": {},
   "source": [
    "## Loading Boardroom Agent"
   ]
  },
  {
   "cell_type": "code",
   "execution_count": null,
   "id": "72f6a654-c01b-4ae6-b03e-335f520634a8",
   "metadata": {},
   "outputs": [],
   "source": [
    "# NOTE: set allow_dangerous_requests manually for security concern https://python.langchain.com/docs/security\n",
    "ALLOW_DANGEROUS_REQUEST=True"
   ]
  },
  {
   "cell_type": "code",
   "execution_count": null,
   "id": "5075efe0-f411-4d56-af84-a7bafb11244b",
   "metadata": {},
   "outputs": [],
   "source": [
    "from typing import (Dict, Any)\n",
    "\n",
    "class MyChatLiteLLM(ChatLiteLLM):\n",
    "    @property\n",
    "    def _default_params(self) -> Dict[str, Any]:\n",
    "        \"\"\"Get the default parameters for calling OpenAI API.\"\"\"\n",
    "        set_model_value = self.model\n",
    "        if self.model_name is not None:\n",
    "            set_model_value = self.model_name\n",
    "        return {\n",
    "            \"model\": set_model_value,\n",
    "            \"force_timeout\": self.request_timeout,\n",
    "            \"max_tokens\": self.max_tokens,\n",
    "            \"stream\": self.streaming,\n",
    "            # \"n\": self.n, # NOTICE: needed to override function to avoid sending this unknown parameter on the current version of RAG API Server\n",
    "            \"temperature\": self.temperature,\n",
    "            \"custom_llm_provider\": self.custom_llm_provider,\n",
    "            **self.model_kwargs,\n",
    "        }"
   ]
  },
  {
   "cell_type": "code",
   "execution_count": null,
   "id": "a7f07118-bd79-44e5-a3cd-7b63d7b7552c",
   "metadata": {},
   "outputs": [],
   "source": [
    "# llm = ChatOpenAI(model_name=\"gpt-4\", temperature=0.0)\n",
    "llm = MyChatLiteLLM(\n",
    "    # api_base=\"https://0xd0275a4f8ef0d4b2dc0a3baf3d405a63bc647340.gaianet.network/v1\",\n",
    "    api_base=\"https://llama.us.gaianet.network/v1\",\n",
    "    openai_api_key=\"\",\n",
    "    # model_name=\"Llama-3-8B-Instruct\",\n",
    "    model_name=\"llama\",\n",
    "    custom_llm_provider=\"openai\",\n",
    "    temperature=0.5,\n",
    "    max_tokens=8000, # based on context size in node config\n",
    "    verbose=True\n",
    ")"
   ]
  },
  {
   "cell_type": "code",
   "execution_count": null,
   "id": "6570eb59-abeb-4382-81c6-887468fa1fb8",
   "metadata": {},
   "outputs": [],
   "source": [
    "boardroom_agent = planner.create_openapi_agent(\n",
    "    boardroom_api_spec,\n",
    "    requests_wrapper,\n",
    "    llm,\n",
    "    allow_dangerous_requests=ALLOW_DANGEROUS_REQUEST,\n",
    "    # agent_executor_kwargs={'handle_parsing_errors': True}\n",
    ")"
   ]
  },
  {
   "cell_type": "code",
   "execution_count": null,
   "id": "18e62d6a-e694-4b61-9aa1-5ac43592f53b",
   "metadata": {},
   "outputs": [],
   "source": [
    "user_query = (\n",
    "    f\"\"\"\n",
    "        I Need to get a full list of proposals from 'aave' protocool order by date in descending order.\n",
    "        Use '{boardroom_api_key}' as 'apiKey' url path parameter on every request made to the API\n",
    "    \"\"\"\n",
    ")\n",
    "user_query"
   ]
  },
  {
   "cell_type": "code",
   "execution_count": null,
   "id": "bc483575-4151-45f2-bafa-02985f3d8f09",
   "metadata": {},
   "outputs": [],
   "source": [
    "import litellm\n",
    "litellm.set_verbose=True\n",
    "\n",
    "os.environ['LITELLM_LOG'] = 'DEBUG'"
   ]
  },
  {
   "cell_type": "code",
   "execution_count": null,
   "id": "db574e33-eb77-4a6a-9b36-300f5a3ff36f",
   "metadata": {
    "scrolled": true
   },
   "outputs": [],
   "source": [
    "boardroom_agent.invoke(user_query)"
   ]
  },
  {
   "cell_type": "code",
   "execution_count": null,
   "id": "c03a4bae-8bad-488a-b53a-4214853c47fc",
   "metadata": {},
   "outputs": [],
   "source": []
  }
 ],
 "metadata": {
  "kernelspec": {
   "display_name": "Python 3 (ipykernel)",
   "language": "python",
   "name": "python3"
  },
  "language_info": {
   "codemirror_mode": {
    "name": "ipython",
    "version": 3
   },
   "file_extension": ".py",
   "mimetype": "text/x-python",
   "name": "python",
   "nbconvert_exporter": "python",
   "pygments_lexer": "ipython3",
   "version": "3.11.9"
  }
 },
 "nbformat": 4,
 "nbformat_minor": 5
}
